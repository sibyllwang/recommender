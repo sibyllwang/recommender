{
 "cells": [
  {
   "cell_type": "markdown",
   "metadata": {},
   "source": [
    "## Recipe Recommender Project\n",
    "### Cosine distance between recipes"
   ]
  },
  {
   "cell_type": "markdown",
   "metadata": {},
   "source": [
    "After using the Shiny App [\"NBspec\"](https://sibylisaprophet.shinyapps.io/NBspecs/) to explore the performance of the Naive Bayes Classifier on the classification of recipes (rating above 4 stars or not), I then move on to finding similarity between recipes. \n",
    "\n",
    "Although the exploratory analysis suggests that the Naive Bayes classifier can perform pretty well with relatively small training sets (~50), it suffers from large variability in its prediction. A potential solution may be using cosine distance between recipes based on selected features to impute with certain confidence whether the user will like or dislike recipes that have not been shown to them. This way, I can use information beyond the input that the user has already provided and potentially increase prediction precision of the Naive Bayes classifier. "
   ]
  },
  {
   "cell_type": "code",
   "execution_count": null,
   "metadata": {},
   "outputs": [],
   "source": []
  }
 ],
 "metadata": {
  "kernelspec": {
   "display_name": "Python 3",
   "language": "python",
   "name": "python3"
  },
  "language_info": {
   "codemirror_mode": {
    "name": "ipython",
    "version": 3
   },
   "file_extension": ".py",
   "mimetype": "text/x-python",
   "name": "python",
   "nbconvert_exporter": "python",
   "pygments_lexer": "ipython3",
   "version": "3.6.2"
  }
 },
 "nbformat": 4,
 "nbformat_minor": 2
}
