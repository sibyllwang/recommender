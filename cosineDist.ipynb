{
 "cells": [
  {
   "cell_type": "markdown",
   "metadata": {},
   "source": [
    "## Recipe Recommender Project\n",
    "### Cosine distance between recipes"
   ]
  },
  {
   "cell_type": "markdown",
   "metadata": {},
   "source": [
    "After using the Shiny App [\"NBspec\"](https://sibylisaprophet.shinyapps.io/NBspecs/) to explore the performance of the Naive Bayes Classifier on the classification of recipes (rating above 4 stars or not), I then move on to finding similarity between recipes. \n",
    "\n",
    "Although the exploratory analysis suggests that the Naive Bayes classifier can perform pretty well with relatively small training sets (~50), it suffers from large variability in its prediction. A potential solution may be using cosine distance between recipes based on selected features to impute with certain confidence whether the user will like or dislike recipes that have not been shown to them. This way, I can use information beyond the input that the user has already provided and potentially increase prediction precision of the Naive Bayes classifier. "
   ]
  },
  {
   "cell_type": "code",
   "execution_count": 7,
   "metadata": {},
   "outputs": [
    {
     "name": "stdout",
     "output_type": "stream",
     "text": [
      "   Unnamed: 0                           title  total_time  prep_time  \\\n",
      "0           1            Sour Cream Lemon Pie         660         90   \n",
      "1           2    Sweet and Sour Chicken Salad          15          0   \n",
      "2           3             Caramel Frosting VI          40          5   \n",
      "3           4   Granny's Corn Flour Tortillas           0          0   \n",
      "4           5  Great Grandma's Bread Stuffing           0          0   \n",
      "\n",
      "   cook_time                                          photo_url  review_count  \\\n",
      "0         30  http://images.media-allrecipes.com/userphotos/...           106   \n",
      "1         15  http://images.media-allrecipes.com/userphotos/...             5   \n",
      "2         30  http://images.media-allrecipes.com/userphotos/...            78   \n",
      "3          0  http://images.media-allrecipes.com/userphotos/...            69   \n",
      "4          0  http://images.media-allrecipes.com/userphotos/...             2   \n",
      "\n",
      "   rating_stars  X10  rating_b four_star  ID  \\\n",
      "0          4.66  NaN  4.396508         Y   1   \n",
      "1          4.43  NaN  3.286000         N   2   \n",
      "2          4.69  NaN  4.345102         Y   3   \n",
      "3          3.63  NaN  3.488427         N   4   \n",
      "4          3.50  NaN  3.045455         N   5   \n",
      "\n",
      "                                                text  \n",
      "0  ['1 cup white sugar', '1/2 cup all-purpose flo...  \n",
      "1  ['1/3 cup sour cream', '3 tablespoons mayonnai...  \n",
      "2  ['1 cup brown sugar', '2 tablespoons all-purpo...  \n",
      "3  ['1 1/2 cups all-purpose flour', '1 1/2 cups c...  \n",
      "4  ['9 cups white bread cubes', '3 cups chopped c...  \n"
     ]
    }
   ],
   "source": [
    "import pandas as pd\n",
    "url = '/Users/sibyl/recommender/recipes_clean.csv'\n",
    "df = pd.read_csv(url)\n",
    "print(df.head(5))"
   ]
  },
  {
   "cell_type": "code",
   "execution_count": null,
   "metadata": {},
   "outputs": [],
   "source": []
  }
 ],
 "metadata": {
  "kernelspec": {
   "display_name": "Python 3",
   "language": "python",
   "name": "python3"
  },
  "language_info": {
   "codemirror_mode": {
    "name": "ipython",
    "version": 3
   },
   "file_extension": ".py",
   "mimetype": "text/x-python",
   "name": "python",
   "nbconvert_exporter": "python",
   "pygments_lexer": "ipython3",
   "version": "3.6.2"
  }
 },
 "nbformat": 4,
 "nbformat_minor": 2
}
